{
 "cells": [
  {
   "cell_type": "code",
   "execution_count": 1,
   "id": "7dcffa99",
   "metadata": {},
   "outputs": [
    {
     "name": "stdout",
     "output_type": "stream",
     "text": [
      "Python Language Version Used In This Jupyter Notebook: 3.10.2\n"
     ]
    }
   ],
   "source": [
    "# Python Language Version\n",
    "from platform import python_version\n",
    "print('Python Language Version Used In This Jupyter Notebook:', python_version())"
   ]
  },
  {
   "cell_type": "code",
   "execution_count": 2,
   "id": "7b655a48",
   "metadata": {},
   "outputs": [
    {
     "name": "stdout",
     "output_type": "stream",
     "text": [
      "12\n",
      "2\n",
      "35\n",
      "2\n",
      "3.0\n"
     ]
    }
   ],
   "source": [
    "# Python Arithmetic Operators\n",
    "x = 7\n",
    "y = 5\n",
    "\n",
    "# Addition Operator\n",
    "print(x + y)\n",
    "\n",
    "# Substration Operator\n",
    "print(x - y)\n",
    "\n",
    "# Multiplication\n",
    "print(x * y)\n",
    "\n",
    "# Modulus Operator\n",
    "print(x % y)\n",
    "\n",
    "# Division Operator\n",
    "x = 12\n",
    "y = 4\n",
    "\n",
    "print(x / y)"
   ]
  },
  {
   "cell_type": "code",
   "execution_count": 3,
   "id": "4c5c3885",
   "metadata": {},
   "outputs": [
    {
     "name": "stdout",
     "output_type": "stream",
     "text": [
      "London\n",
      "10\n",
      "4\n",
      "21\n",
      "2.0\n",
      "1\n"
     ]
    }
   ],
   "source": [
    "# Python Assigment Operators: Assigment operators are use to assign values to variables:\n",
    "city = 'London'\n",
    "print(city)\n",
    "\n",
    "x = 7\n",
    "x += 3\n",
    "print(x)\n",
    "\n",
    "x = 7\n",
    "x -= 3\n",
    "print(x)\n",
    "\n",
    "x = 7\n",
    "x *= 3\n",
    "print(x)\n",
    "\n",
    "x = 6\n",
    "x /= 3\n",
    "print(x)\n",
    "\n",
    "x = 7\n",
    "x %= 3\n",
    "print(x)"
   ]
  },
  {
   "cell_type": "code",
   "execution_count": 4,
   "id": "cebd8142",
   "metadata": {},
   "outputs": [
    {
     "name": "stdout",
     "output_type": "stream",
     "text": [
      "False\n",
      "True\n",
      "True\n",
      "False\n",
      "True\n",
      "False\n"
     ]
    }
   ],
   "source": [
    "# Python Comparison Operators: Comparison operators are used compare two values:\n",
    "x = 7\n",
    "y = 3\n",
    "\n",
    "# Returns False because 7 is not equal to 3\n",
    "print(x == y)\n",
    "\n",
    "# Returns True because 7 is not equal to 3\n",
    "print(x != y)\n",
    "\n",
    "# Returns True because 7 is greater than to 3\n",
    "print(x > y)\n",
    "\n",
    "# Returns False because 7 is not less than to 3\n",
    "print(x < y)\n",
    "\n",
    "# Returns True because 7 is greater or equal to 3\n",
    "print(x >= 7)\n",
    "\n",
    "# Returns False because 7 is neither less than or equal to 3\n",
    "print(x <= y)"
   ]
  },
  {
   "cell_type": "code",
   "execution_count": 5,
   "id": "1f4766f6",
   "metadata": {},
   "outputs": [
    {
     "name": "stdout",
     "output_type": "stream",
     "text": [
      "True\n",
      "True\n",
      "False\n"
     ]
    }
   ],
   "source": [
    "# Python Logical Operators: Logical operators are used to combine conditional statements:\n",
    "\n",
    "# Returns True because 7 is greater than 3 AND 7 is less than 10\n",
    "x = 7\n",
    "print(x > 3 and x < 10)\n",
    "\n",
    "# Returns True because one of the conditions are true (7 is greater than 3, but 7 is not less than 4)\n",
    "print(x > 3 or x < 4)\n",
    "\n",
    "#Returns False because not is used to reverse the result\n",
    "print(not(x > 3 and x < 10))"
   ]
  }
 ],
 "metadata": {
  "kernelspec": {
   "display_name": "Python 3 (ipykernel)",
   "language": "python",
   "name": "python3"
  },
  "language_info": {
   "codemirror_mode": {
    "name": "ipython",
    "version": 3
   },
   "file_extension": ".py",
   "mimetype": "text/x-python",
   "name": "python",
   "nbconvert_exporter": "python",
   "pygments_lexer": "ipython3",
   "version": "3.10.2"
  }
 },
 "nbformat": 4,
 "nbformat_minor": 5
}
