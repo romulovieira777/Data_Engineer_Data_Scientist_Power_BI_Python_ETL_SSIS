{
 "cells": [
  {
   "cell_type": "code",
   "execution_count": 1,
   "id": "5d4b080c",
   "metadata": {},
   "outputs": [
    {
     "name": "stdout",
     "output_type": "stream",
     "text": [
      "Python Language Version Used In This Jupyter Notebook: 3.10.2\n"
     ]
    }
   ],
   "source": [
    "# Python Language Version\n",
    "from platform import python_version\n",
    "print('Python Language Version Used In This Jupyter Notebook:', python_version())"
   ]
  },
  {
   "cell_type": "code",
   "execution_count": 2,
   "id": "fba05ce8",
   "metadata": {},
   "outputs": [],
   "source": [
    "# Create a Python Tuple called animals\n",
    "animals = ('bear', 'dog', 'giraffe', 'goat', 'leopard', 'lion', 'penguin', 'tiger')"
   ]
  },
  {
   "cell_type": "code",
   "execution_count": 3,
   "id": "9893b411",
   "metadata": {},
   "outputs": [
    {
     "data": {
      "text/plain": [
       "'goat'"
      ]
     },
     "execution_count": 3,
     "metadata": {},
     "output_type": "execute_result"
    }
   ],
   "source": [
    "animals[3]"
   ]
  },
  {
   "cell_type": "code",
   "execution_count": 4,
   "id": "567c8be1",
   "metadata": {},
   "outputs": [
    {
     "data": {
      "text/plain": [
       "'tiger'"
      ]
     },
     "execution_count": 4,
     "metadata": {},
     "output_type": "execute_result"
    }
   ],
   "source": [
    "animals[-1]"
   ]
  },
  {
   "cell_type": "code",
   "execution_count": 5,
   "id": "d7a9ed9e",
   "metadata": {},
   "outputs": [
    {
     "name": "stdout",
     "output_type": "stream",
     "text": [
      "('giraffe', 'goat', 'leopard')\n"
     ]
    }
   ],
   "source": [
    "print(animals[2:5])"
   ]
  },
  {
   "cell_type": "code",
   "execution_count": 6,
   "id": "7fd73760",
   "metadata": {},
   "outputs": [
    {
     "ename": "TypeError",
     "evalue": "'tuple' object does not support item assignment",
     "output_type": "error",
     "traceback": [
      "\u001b[1;31m---------------------------------------------------------------------------\u001b[0m",
      "\u001b[1;31mTypeError\u001b[0m                                 Traceback (most recent call last)",
      "Input \u001b[1;32mIn [6]\u001b[0m, in \u001b[0;36m<module>\u001b[1;34m\u001b[0m\n\u001b[1;32m----> 1\u001b[0m animals[\u001b[38;5;241m0\u001b[39m] \u001b[38;5;241m=\u001b[39m \u001b[38;5;124m'\u001b[39m\u001b[38;5;124mkangaro\u001b[39m\u001b[38;5;124m'\u001b[39m\n",
      "\u001b[1;31mTypeError\u001b[0m: 'tuple' object does not support item assignment"
     ]
    }
   ],
   "source": [
    "animals[0] = 'kangaro'"
   ]
  },
  {
   "cell_type": "code",
   "execution_count": 7,
   "id": "26025590",
   "metadata": {},
   "outputs": [
    {
     "name": "stdout",
     "output_type": "stream",
     "text": [
      "bear\n",
      "dog\n",
      "giraffe\n",
      "goat\n",
      "leopard\n",
      "lion\n",
      "penguin\n",
      "tiger\n"
     ]
    }
   ],
   "source": [
    "# looping through tuple\n",
    "for animal in animals:\n",
    "    print(animal)"
   ]
  },
  {
   "cell_type": "code",
   "execution_count": 8,
   "id": "ee74ff66",
   "metadata": {},
   "outputs": [
    {
     "name": "stdout",
     "output_type": "stream",
     "text": [
      "8\n"
     ]
    }
   ],
   "source": [
    "print(len(animals))"
   ]
  },
  {
   "cell_type": "code",
   "execution_count": 9,
   "id": "4499d6fa",
   "metadata": {},
   "outputs": [],
   "source": [
    "# Joing tuples using + operator\n",
    "letters = ('a', 'b', 'c')\n",
    "numbers = (1, 2, 3)\n",
    "letters_numbers = letters + numbers"
   ]
  },
  {
   "cell_type": "code",
   "execution_count": 10,
   "id": "1e496bbf",
   "metadata": {},
   "outputs": [
    {
     "data": {
      "text/plain": [
       "('a', 'b', 'c', 1, 2, 3)"
      ]
     },
     "execution_count": 10,
     "metadata": {},
     "output_type": "execute_result"
    }
   ],
   "source": [
    "letters_numbers"
   ]
  }
 ],
 "metadata": {
  "kernelspec": {
   "display_name": "Python 3 (ipykernel)",
   "language": "python",
   "name": "python3"
  },
  "language_info": {
   "codemirror_mode": {
    "name": "ipython",
    "version": 3
   },
   "file_extension": ".py",
   "mimetype": "text/x-python",
   "name": "python",
   "nbconvert_exporter": "python",
   "pygments_lexer": "ipython3",
   "version": "3.10.2"
  }
 },
 "nbformat": 4,
 "nbformat_minor": 5
}
