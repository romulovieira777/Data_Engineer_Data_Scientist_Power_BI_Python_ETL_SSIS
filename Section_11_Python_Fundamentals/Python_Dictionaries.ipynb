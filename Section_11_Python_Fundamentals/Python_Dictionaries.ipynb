{
 "cells": [
  {
   "cell_type": "code",
   "execution_count": 1,
   "id": "e9cb718a",
   "metadata": {},
   "outputs": [
    {
     "name": "stdout",
     "output_type": "stream",
     "text": [
      "Python Language Version Used In This Jupyter Notebook: 3.10.2\n"
     ]
    }
   ],
   "source": [
    "# Python Language Version\n",
    "from platform import python_version\n",
    "print('Python Language Version Used In This Jupyter Notebook:', python_version())"
   ]
  },
  {
   "cell_type": "code",
   "execution_count": 2,
   "id": "dbc3a96b",
   "metadata": {},
   "outputs": [],
   "source": [
    "# Create a dictionary called countries_cities\n",
    "countries_cities = {\n",
    "    'United Kingdom': 'London',\n",
    "    'United States': 'New York',\n",
    "    'Belgium': 'Brussels',\n",
    "    'Croatia': 'Zagreb',\n",
    "    'Egypt': 'Cairo',\n",
    "    'Italy': 'Rome'\n",
    "}"
   ]
  },
  {
   "cell_type": "code",
   "execution_count": 3,
   "id": "90cbe566",
   "metadata": {},
   "outputs": [
    {
     "data": {
      "text/plain": [
       "'Rome'"
      ]
     },
     "execution_count": 3,
     "metadata": {},
     "output_type": "execute_result"
    }
   ],
   "source": [
    "countries_cities['Italy']"
   ]
  },
  {
   "cell_type": "code",
   "execution_count": 4,
   "id": "2a1e0f4a",
   "metadata": {},
   "outputs": [
    {
     "data": {
      "text/plain": [
       "'Cairo'"
      ]
     },
     "execution_count": 4,
     "metadata": {},
     "output_type": "execute_result"
    }
   ],
   "source": [
    "# Returns the value of the specified key\n",
    "countries_cities.get('Egypt')"
   ]
  },
  {
   "cell_type": "code",
   "execution_count": 5,
   "id": "2ef854ba",
   "metadata": {},
   "outputs": [],
   "source": [
    "# Change value in a dictionary\n",
    "countries_cities['United States'] = 'Atlanta'"
   ]
  },
  {
   "cell_type": "code",
   "execution_count": 6,
   "id": "29082f28",
   "metadata": {},
   "outputs": [
    {
     "data": {
      "text/plain": [
       "'Atlanta'"
      ]
     },
     "execution_count": 6,
     "metadata": {},
     "output_type": "execute_result"
    }
   ],
   "source": [
    "countries_cities['United States']"
   ]
  },
  {
   "cell_type": "code",
   "execution_count": 7,
   "id": "52af23d8",
   "metadata": {},
   "outputs": [],
   "source": [
    "# Add item to dictionary\n",
    "countries_cities['Japan'] = 'Tokyo'"
   ]
  },
  {
   "cell_type": "code",
   "execution_count": 8,
   "id": "28022765",
   "metadata": {},
   "outputs": [
    {
     "name": "stdout",
     "output_type": "stream",
     "text": [
      "{'United Kingdom': 'London', 'United States': 'Atlanta', 'Belgium': 'Brussels', 'Croatia': 'Zagreb', 'Egypt': 'Cairo', 'Italy': 'Rome', 'Japan': 'Tokyo'}\n"
     ]
    }
   ],
   "source": [
    "# Print the dictionary\n",
    "print(countries_cities)"
   ]
  },
  {
   "cell_type": "code",
   "execution_count": 9,
   "id": "6d3f1105",
   "metadata": {},
   "outputs": [
    {
     "name": "stdout",
     "output_type": "stream",
     "text": [
      "{'United Kingdom': 'London', 'United States': 'Atlanta', 'Belgium': 'Brussels', 'Croatia': 'Zagreb', 'Egypt': 'Cairo', 'Italy': 'Rome'}\n"
     ]
    }
   ],
   "source": [
    "# Remove items from dictionary: There are several ways to do this\n",
    "\n",
    "# Removes item with specified key name\n",
    "countries_cities.pop('Japan')\n",
    "\n",
    "print(countries_cities)\n",
    "\n",
    "# Removes item with specified key name\n",
    "# del countries_cities['Japan']\n",
    "\n",
    "# Removes the last inserted item\n",
    "# countries_cities.popitem()"
   ]
  },
  {
   "cell_type": "code",
   "execution_count": 10,
   "id": "036373a7",
   "metadata": {},
   "outputs": [
    {
     "name": "stdout",
     "output_type": "stream",
     "text": [
      "United Kingdom\n",
      "United States\n",
      "Belgium\n",
      "Croatia\n",
      "Egypt\n",
      "Italy\n"
     ]
    }
   ],
   "source": [
    "# looping through dictionaries keys\n",
    "# Prints just values\n",
    "for countries in countries_cities:\n",
    "    print(countries)"
   ]
  },
  {
   "cell_type": "code",
   "execution_count": 11,
   "id": "20c953b0",
   "metadata": {},
   "outputs": [
    {
     "name": "stdout",
     "output_type": "stream",
     "text": [
      "London\n",
      "Atlanta\n",
      "Brussels\n",
      "Zagreb\n",
      "Cairo\n",
      "Rome\n"
     ]
    }
   ],
   "source": [
    "# Print just values\n",
    "for countries in countries_cities.values():\n",
    "    print(countries)"
   ]
  },
  {
   "cell_type": "code",
   "execution_count": 12,
   "id": "d264a2a6",
   "metadata": {},
   "outputs": [
    {
     "name": "stdout",
     "output_type": "stream",
     "text": [
      "United Kingdom London\n",
      "United States Atlanta\n",
      "Belgium Brussels\n",
      "Croatia Zagreb\n",
      "Egypt Cairo\n",
      "Italy Rome\n"
     ]
    }
   ],
   "source": [
    "# Prints keyx and values\n",
    "for x, y in countries_cities.items():\n",
    "    print(x, y)"
   ]
  },
  {
   "cell_type": "code",
   "execution_count": 13,
   "id": "b4888c86",
   "metadata": {},
   "outputs": [
    {
     "name": "stdout",
     "output_type": "stream",
     "text": [
      "6\n"
     ]
    }
   ],
   "source": [
    "# Print length of dictionary\n",
    "print(len(countries_cities))"
   ]
  },
  {
   "cell_type": "code",
   "execution_count": 14,
   "id": "f0c7099d",
   "metadata": {},
   "outputs": [],
   "source": [
    "# Nested dictionaries: A dictionary can also contain many diciotnaries, this is called nested dictionaries.\n",
    "family = {\n",
    "    'firstchild': {\n",
    "        'name': 'Jack',\n",
    "        'year': 2007\n",
    "    },\n",
    "    'secondchild': {\n",
    "        'name': 'Lucy',\n",
    "        'year': 2010\n",
    "    },\n",
    "    'thirdchild': {\n",
    "        'name': 'Angela',\n",
    "        'year': 2014\n",
    "    }\n",
    "}"
   ]
  },
  {
   "cell_type": "code",
   "execution_count": 15,
   "id": "7b0cf9eb",
   "metadata": {},
   "outputs": [
    {
     "data": {
      "text/plain": [
       "{'name': 'Lucy', 'year': 2010}"
      ]
     },
     "execution_count": 15,
     "metadata": {},
     "output_type": "execute_result"
    }
   ],
   "source": [
    "family['secondchild']"
   ]
  },
  {
   "cell_type": "code",
   "execution_count": 16,
   "id": "2f0d9310",
   "metadata": {},
   "outputs": [],
   "source": [
    "# Clear or empty a dictionary\n",
    "family.clear()"
   ]
  },
  {
   "cell_type": "code",
   "execution_count": 17,
   "id": "4baada29",
   "metadata": {},
   "outputs": [
    {
     "data": {
      "text/plain": [
       "{}"
      ]
     },
     "execution_count": 17,
     "metadata": {},
     "output_type": "execute_result"
    }
   ],
   "source": [
    "family"
   ]
  }
 ],
 "metadata": {
  "kernelspec": {
   "display_name": "Python 3 (ipykernel)",
   "language": "python",
   "name": "python3"
  },
  "language_info": {
   "codemirror_mode": {
    "name": "ipython",
    "version": 3
   },
   "file_extension": ".py",
   "mimetype": "text/x-python",
   "name": "python",
   "nbconvert_exporter": "python",
   "pygments_lexer": "ipython3",
   "version": "3.10.2"
  }
 },
 "nbformat": 4,
 "nbformat_minor": 5
}
