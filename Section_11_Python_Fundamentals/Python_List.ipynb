{
 "cells": [
  {
   "cell_type": "code",
   "execution_count": 1,
   "id": "86a9a61e",
   "metadata": {},
   "outputs": [
    {
     "name": "stdout",
     "output_type": "stream",
     "text": [
      "Python Language Version Used In This Jupyter Notebook: 3.10.2\n"
     ]
    }
   ],
   "source": [
    "# Python Language Version\n",
    "from platform import python_version\n",
    "print('Python Language Version Used In This Jupyter Notebook:', python_version())"
   ]
  },
  {
   "cell_type": "code",
   "execution_count": 2,
   "id": "e4d5fa2a",
   "metadata": {},
   "outputs": [],
   "source": [
    "# Create a Python list called animals\n",
    "animals = ['bear', 'dog', 'giraffe', 'goat', 'leopard', 'lion', 'penguin', 'tiger']"
   ]
  },
  {
   "cell_type": "code",
   "execution_count": 3,
   "id": "658fc414",
   "metadata": {},
   "outputs": [
    {
     "name": "stdout",
     "output_type": "stream",
     "text": [
      "dog\n"
     ]
    }
   ],
   "source": [
    "# Accessing items in a list via their index position\n",
    "print(animals[1])"
   ]
  },
  {
   "cell_type": "code",
   "execution_count": 4,
   "id": "92894332",
   "metadata": {},
   "outputs": [
    {
     "name": "stdout",
     "output_type": "stream",
     "text": [
      "penguin\n"
     ]
    }
   ],
   "source": [
    "# Items cam also be accessed by negative index\n",
    "print(animals[-2])"
   ]
  },
  {
   "cell_type": "code",
   "execution_count": 5,
   "id": "1be60da2",
   "metadata": {},
   "outputs": [],
   "source": [
    "# Create a list called fruits\n",
    "fruits = ['apple', 'berry', 'cherry']"
   ]
  },
  {
   "cell_type": "code",
   "execution_count": 6,
   "id": "2a6dc1ef",
   "metadata": {},
   "outputs": [
    {
     "data": {
      "text/plain": [
       "'cherry'"
      ]
     },
     "execution_count": 6,
     "metadata": {},
     "output_type": "execute_result"
    }
   ],
   "source": [
    "fruits[2]"
   ]
  },
  {
   "cell_type": "code",
   "execution_count": 7,
   "id": "eae57bc7",
   "metadata": {},
   "outputs": [],
   "source": [
    "# Change the value of an item in a list\n",
    "fruits[0] = 'orange'"
   ]
  },
  {
   "cell_type": "code",
   "execution_count": 8,
   "id": "55824511",
   "metadata": {},
   "outputs": [
    {
     "data": {
      "text/plain": [
       "['orange', 'berry', 'cherry']"
      ]
     },
     "execution_count": 8,
     "metadata": {},
     "output_type": "execute_result"
    }
   ],
   "source": [
    "fruits"
   ]
  },
  {
   "cell_type": "code",
   "execution_count": 9,
   "id": "bf1715d2",
   "metadata": {},
   "outputs": [],
   "source": [
    "# Add a new item to a list\n",
    "fruits.append('apple')"
   ]
  },
  {
   "cell_type": "code",
   "execution_count": 10,
   "id": "4f44cd8f",
   "metadata": {},
   "outputs": [
    {
     "data": {
      "text/plain": [
       "['orange', 'berry', 'cherry', 'apple']"
      ]
     },
     "execution_count": 10,
     "metadata": {},
     "output_type": "execute_result"
    }
   ],
   "source": [
    "fruits"
   ]
  },
  {
   "cell_type": "code",
   "execution_count": 11,
   "id": "2d337526",
   "metadata": {},
   "outputs": [],
   "source": [
    "# Create a list with mixed data types and also including another list\n",
    "mixed_data = ['Jack', 47, 5.3, True, fruits]"
   ]
  },
  {
   "cell_type": "code",
   "execution_count": 12,
   "id": "300b8725",
   "metadata": {},
   "outputs": [
    {
     "data": {
      "text/plain": [
       "47"
      ]
     },
     "execution_count": 12,
     "metadata": {},
     "output_type": "execute_result"
    }
   ],
   "source": [
    "mixed_data[1]"
   ]
  },
  {
   "cell_type": "code",
   "execution_count": 13,
   "id": "47b95a4a",
   "metadata": {},
   "outputs": [
    {
     "data": {
      "text/plain": [
       "'apple'"
      ]
     },
     "execution_count": 13,
     "metadata": {},
     "output_type": "execute_result"
    }
   ],
   "source": [
    "# Remove items from a list: There are a few ways to remove items.\n",
    "fruits.pop(3)\n",
    "\n",
    "#fruits.remove('apple')\n",
    "#del fruits[3]"
   ]
  },
  {
   "cell_type": "code",
   "execution_count": 14,
   "id": "2c8b9320",
   "metadata": {},
   "outputs": [
    {
     "data": {
      "text/plain": [
       "['orange', 'berry', 'cherry']"
      ]
     },
     "execution_count": 14,
     "metadata": {},
     "output_type": "execute_result"
    }
   ],
   "source": [
    "fruits"
   ]
  },
  {
   "cell_type": "code",
   "execution_count": 15,
   "id": "04733bec",
   "metadata": {},
   "outputs": [
    {
     "name": "stdout",
     "output_type": "stream",
     "text": [
      "bear\n",
      "dog\n",
      "giraffe\n",
      "goat\n",
      "leopard\n",
      "lion\n",
      "penguin\n",
      "tiger\n"
     ]
    }
   ],
   "source": [
    "# Loop through a list\n",
    "for x in animals:\n",
    "    print(x)"
   ]
  },
  {
   "cell_type": "code",
   "execution_count": 16,
   "id": "aa5a84b8",
   "metadata": {},
   "outputs": [
    {
     "name": "stdout",
     "output_type": "stream",
     "text": [
      "8\n"
     ]
    }
   ],
   "source": [
    "# Check the length of a list\n",
    "print(len(animals))"
   ]
  },
  {
   "cell_type": "code",
   "execution_count": 17,
   "id": "9442f03f",
   "metadata": {},
   "outputs": [],
   "source": [
    "# Clear a list\n",
    "fruits.clear()"
   ]
  },
  {
   "cell_type": "code",
   "execution_count": 18,
   "id": "babdca27",
   "metadata": {},
   "outputs": [
    {
     "data": {
      "text/plain": [
       "[]"
      ]
     },
     "execution_count": 18,
     "metadata": {},
     "output_type": "execute_result"
    }
   ],
   "source": [
    "fruits"
   ]
  }
 ],
 "metadata": {
  "kernelspec": {
   "display_name": "Python 3 (ipykernel)",
   "language": "python",
   "name": "python3"
  },
  "language_info": {
   "codemirror_mode": {
    "name": "ipython",
    "version": 3
   },
   "file_extension": ".py",
   "mimetype": "text/x-python",
   "name": "python",
   "nbconvert_exporter": "python",
   "pygments_lexer": "ipython3",
   "version": "3.10.2"
  }
 },
 "nbformat": 4,
 "nbformat_minor": 5
}
